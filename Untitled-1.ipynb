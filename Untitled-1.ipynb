{
 "cells": [
  {
   "cell_type": "code",
   "execution_count": 3,
   "metadata": {},
   "outputs": [
    {
     "name": "stderr",
     "output_type": "stream",
     "text": [
      "d:\\olga_bassant_roadmap\\B2B_project\\B2B\\benv\\Lib\\site-packages\\tqdm\\auto.py:21: TqdmWarning: IProgress not found. Please update jupyter and ipywidgets. See https://ipywidgets.readthedocs.io/en/stable/user_install.html\n",
      "  from .autonotebook import tqdm as notebook_tqdm\n"
     ]
    }
   ],
   "source": [
    "\n",
    "\n",
    "import numpy as np\n",
    "from sklearn.metrics.pairwise import cosine_similarity\n",
    "from sentence_transformers import SentenceTransformer\n",
    "# from src.llm_instance import SentenceTransformer_model\n",
    "# Load BERT-based model\n",
    "model = SentenceTransformer(\"all-MiniLM-L6-v2\")\n",
    "\n",
    "def read_text_file(file_path):\n",
    "    \"\"\"Reads a text file and returns its content as a string.\"\"\"\n",
    "    with open(file_path, \"r\", encoding=\"utf-8\") as file:\n",
    "        return file.read()\n",
    "\n",
    "def compute_bert_recall_confidence_score(cv_path, job_desc_path, cover_letter_path):\n",
    "    \"\"\"Computes the confidence score based on BERT embeddings.\"\"\"\n",
    "    \n",
    "    # Read the text files\n",
    "    cv = read_text_file(cv_path)\n",
    "    job_desc = read_text_file(job_desc_path)\n",
    "    cover_letter = read_text_file(cover_letter_path)\n",
    "    \n",
    "    # Get embeddings of CV, job description, and cover letter\n",
    "    cv_embedding = model.encode(cv)\n",
    "    jd_embedding = model.encode(job_desc)\n",
    "    cl_embedding = model.encode(cover_letter)\n",
    "\n",
    "    # Compute combined embedding of CV and job description\n",
    "    combined_cv_jd = np.mean([cv_embedding, jd_embedding], axis=0)\n",
    "\n",
    "    # Calculate cosine similarity\n",
    "    similarity = cosine_similarity([combined_cv_jd], [cl_embedding])[0][0]\n",
    "\n",
    "    # Return the similarity score as a percentage\n",
    "    return int(similarity * 100)\n",
    "\n",
    "\n"
   ]
  },
  {
   "cell_type": "code",
   "execution_count": 4,
   "metadata": {},
   "outputs": [
    {
     "name": "stdout",
     "output_type": "stream",
     "text": [
      "76\n"
     ]
    }
   ],
   "source": [
    "x=compute_bert_recall_confidence_score(\"cv.txt\",\"Job Description1.txt\",\"cover_letter.txt\")\n",
    "print(x)"
   ]
  },
  {
   "cell_type": "code",
   "execution_count": null,
   "metadata": {},
   "outputs": [],
   "source": []
  }
 ],
 "metadata": {
  "kernelspec": {
   "display_name": "benv",
   "language": "python",
   "name": "python3"
  },
  "language_info": {
   "codemirror_mode": {
    "name": "ipython",
    "version": 3
   },
   "file_extension": ".py",
   "mimetype": "text/x-python",
   "name": "python",
   "nbconvert_exporter": "python",
   "pygments_lexer": "ipython3",
   "version": "3.12.6"
  }
 },
 "nbformat": 4,
 "nbformat_minor": 2
}
